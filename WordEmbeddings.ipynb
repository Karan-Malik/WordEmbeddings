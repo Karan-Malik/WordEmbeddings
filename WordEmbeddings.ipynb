{
 "cells": [
  {
   "cell_type": "markdown",
   "metadata": {},
   "source": [
    "# Word Embeddings with Keras"
   ]
  },
  {
   "cell_type": "markdown",
   "metadata": {},
   "source": [
    "Using the News Dataset from Kaggle (Link in Readme) to create 50-Dimensional Word embeddings using Keras"
   ]
  },
  {
   "cell_type": "code",
   "execution_count": 14,
   "metadata": {},
   "outputs": [],
   "source": [
    "import keras\n",
    "from keras.models import Sequential\n",
    "from keras.layers import Embedding\n",
    "from keras.preprocessing.text import one_hot\n",
    "from keras.preprocessing.sequence import pad_sequences\n",
    "import re\n",
    "import json\n",
    "import nltk"
   ]
  },
  {
   "cell_type": "markdown",
   "metadata": {},
   "source": [
    "Reading the Dataset, consisting of nested dictionaries or .Json files and storing all the dictionaries in a list."
   ]
  },
  {
   "cell_type": "code",
   "execution_count": 7,
   "metadata": {},
   "outputs": [],
   "source": [
    "data=[]\n",
    "for line in open('News_data.json','r'):\n",
    "    data.append(json.loads(line))"
   ]
  },
  {
   "cell_type": "code",
   "execution_count": 8,
   "metadata": {},
   "outputs": [
    {
     "data": {
      "text/plain": [
       "[{'category': 'CRIME',\n",
       "  'headline': 'There Were 2 Mass Shootings In Texas Last Week, But Only 1 On TV',\n",
       "  'authors': 'Melissa Jeltsen',\n",
       "  'link': 'https://www.huffingtonpost.com/entry/texas-amanda-painter-mass-shooting_us_5b081ab4e4b0802d69caad89',\n",
       "  'short_description': 'She left her husband. He killed their children. Just another day in America.',\n",
       "  'date': '2018-05-26'},\n",
       " {'category': 'ENTERTAINMENT',\n",
       "  'headline': \"Will Smith Joins Diplo And Nicky Jam For The 2018 World Cup's Official Song\",\n",
       "  'authors': 'Andy McDonald',\n",
       "  'link': 'https://www.huffingtonpost.com/entry/will-smith-joins-diplo-and-nicky-jam-for-the-official-2018-world-cup-song_us_5b09726fe4b0fdb2aa541201',\n",
       "  'short_description': 'Of course it has a song.',\n",
       "  'date': '2018-05-26'}]"
      ]
     },
     "execution_count": 8,
     "metadata": {},
     "output_type": "execute_result"
    }
   ],
   "source": [
    "data[:2]"
   ]
  },
  {
   "cell_type": "markdown",
   "metadata": {},
   "source": [
    "We will be using only the headings of the first 10,000 news articles to create the word embeddings"
   ]
  },
  {
   "cell_type": "code",
   "execution_count": 9,
   "metadata": {},
   "outputs": [],
   "source": [
    "data=data[:10000]"
   ]
  },
  {
   "cell_type": "code",
   "execution_count": 10,
   "metadata": {},
   "outputs": [],
   "source": [
    "sent=[]\n",
    "for news in data:\n",
    "    x=re.sub('[^a-zA-Z]',' ',news['headline']) #To remove symbols and numbers from headings\n",
    "    sent.append(x)"
   ]
  },
  {
   "cell_type": "code",
   "execution_count": 12,
   "metadata": {},
   "outputs": [
    {
     "data": {
      "text/plain": [
       "['Morgan Freeman  Devastated  That Sexual Harassment Claims Could Undermine Legacy',\n",
       " 'Donald Trump Is Lovin  New McDonald s Jingle In  Tonight Show  Bit',\n",
       " 'What To Watch On Amazon Prime That s New This Week',\n",
       " 'Mike Myers Reveals He d  Like To  Do A Fourth Austin Powers Film',\n",
       " 'What To Watch On Hulu That s New This Week']"
      ]
     },
     "execution_count": 12,
     "metadata": {},
     "output_type": "execute_result"
    }
   ],
   "source": [
    "sent[5:10]"
   ]
  },
  {
   "cell_type": "markdown",
   "metadata": {},
   "source": [
    "Setting vocabulary size = 10,000 and converting the words into their One Hot Encoding Representations"
   ]
  },
  {
   "cell_type": "code",
   "execution_count": 16,
   "metadata": {},
   "outputs": [],
   "source": [
    "vocab_size=10000"
   ]
  },
  {
   "cell_type": "code",
   "execution_count": 17,
   "metadata": {},
   "outputs": [],
   "source": [
    "ohe_sent=[]\n",
    "for i in sent:\n",
    "    ohe_sent.append(one_hot(i,vocab_size))"
   ]
  },
  {
   "cell_type": "code",
   "execution_count": 20,
   "metadata": {},
   "outputs": [
    {
     "name": "stdout",
     "output_type": "stream",
     "text": [
      "[675, 4873, 8559, 48, 8933, 1768, 6889, 9585, 2186, 675, 1051, 8590, 2991, 7955]\n",
      "[1268, 1528, 4101, 88, 4144, 7287, 9607, 7211, 625, 3392, 797, 8933]\n"
     ]
    }
   ],
   "source": [
    "print(ohe_sent[-1])\n",
    "print(ohe_sent[0])"
   ]
  },
  {
   "cell_type": "markdown",
   "metadata": {},
   "source": [
    "Calculating the max length of any sentence in ohe_sent and padding the smaller sentences in order to have similar size vectors"
   ]
  },
  {
   "cell_type": "code",
   "execution_count": 21,
   "metadata": {},
   "outputs": [],
   "source": [
    "max_len=0\n",
    "for word in ohe_sent:\n",
    "    max_len=max(max_len,len(word))"
   ]
  },
  {
   "cell_type": "code",
   "execution_count": 22,
   "metadata": {},
   "outputs": [
    {
     "data": {
      "text/plain": [
       "23"
      ]
     },
     "execution_count": 22,
     "metadata": {},
     "output_type": "execute_result"
    }
   ],
   "source": [
    "max_len"
   ]
  },
  {
   "cell_type": "code",
   "execution_count": 23,
   "metadata": {},
   "outputs": [],
   "source": [
    "pad_sent=pad_sequences(ohe_sent,max_len)"
   ]
  },
  {
   "cell_type": "code",
   "execution_count": 25,
   "metadata": {},
   "outputs": [
    {
     "name": "stdout",
     "output_type": "stream",
     "text": [
      "[   0    0    0    0    0    0    0    0    0    0    0 1268 1528 4101\n",
      "   88 4144 7287 9607 7211  625 3392  797 8933]\n",
      "[   0    0    0    0    0    0    0    0    0  675 4873 8559   48 8933\n",
      " 1768 6889 9585 2186  675 1051 8590 2991 7955]\n"
     ]
    }
   ],
   "source": [
    "print(pad_sent[0])\n",
    "print(pad_sent[-1])"
   ]
  },
  {
   "cell_type": "markdown",
   "metadata": {},
   "source": [
    "Now all the OHE representations are 23 words long"
   ]
  },
  {
   "cell_type": "markdown",
   "metadata": {},
   "source": [
    "Training a model to learn the word embeddings from the padded data with RMSProp optimizer and Mean Square Error Metric"
   ]
  },
  {
   "cell_type": "code",
   "execution_count": 26,
   "metadata": {},
   "outputs": [],
   "source": [
    "model=Sequential()\n",
    "model.add(Embedding(vocab_size,50,input_length=max_len))\n",
    "model.compile('rmsprop','mse')"
   ]
  },
  {
   "cell_type": "markdown",
   "metadata": {},
   "source": [
    "The word embeddings have been created. We can check the embeddings for different sentences and words in pad_sent using model.predict"
   ]
  },
  {
   "cell_type": "code",
   "execution_count": 27,
   "metadata": {},
   "outputs": [
    {
     "data": {
      "text/plain": [
       "array([[ 0.04391349,  0.0453858 , -0.02613759, ...,  0.0171277 ,\n",
       "         0.02062822, -0.03409203],\n",
       "       [ 0.04391349,  0.0453858 , -0.02613759, ...,  0.0171277 ,\n",
       "         0.02062822, -0.03409203],\n",
       "       [ 0.04391349,  0.0453858 , -0.02613759, ...,  0.0171277 ,\n",
       "         0.02062822, -0.03409203],\n",
       "       ...,\n",
       "       [ 0.03721166,  0.00751374, -0.00661721, ...,  0.02370478,\n",
       "        -0.04891087,  0.04572893],\n",
       "       [-0.00341044, -0.03072641, -0.01690539, ...,  0.01867681,\n",
       "         0.00623417, -0.01163029],\n",
       "       [-0.04781581,  0.03976731, -0.00262574, ...,  0.04811199,\n",
       "        -0.0304492 ,  0.03536019]], dtype=float32)"
      ]
     },
     "execution_count": 27,
     "metadata": {},
     "output_type": "execute_result"
    }
   ],
   "source": [
    "model.predict(pad_sent)[0]"
   ]
  },
  {
   "cell_type": "code",
   "execution_count": 28,
   "metadata": {},
   "outputs": [
    {
     "data": {
      "text/plain": [
       "array([-4.7815811e-02,  3.9767314e-02, -2.6257411e-03,  2.6954006e-02,\n",
       "       -4.3435849e-02,  4.3699030e-02, -3.8771033e-03,  6.6916831e-03,\n",
       "        3.7492845e-02, -2.8893685e-02,  2.2647452e-02, -3.9983392e-03,\n",
       "        1.0572374e-05,  2.6472211e-03,  2.6500177e-02, -1.6173888e-02,\n",
       "        3.2573152e-02, -2.9897070e-02, -5.8228858e-03, -4.9736954e-02,\n",
       "        3.1751577e-02, -6.8246610e-03, -8.7342747e-03,  1.8186513e-02,\n",
       "        3.4542050e-02, -3.4797192e-02,  2.5794458e-02, -3.5924695e-02,\n",
       "        2.1645810e-02, -7.6074488e-03,  3.6285270e-02, -3.3404946e-02,\n",
       "        9.6990354e-03, -3.2703713e-02, -4.5130204e-02, -4.2662241e-02,\n",
       "        1.4409233e-02, -3.2845870e-02,  4.5430247e-02, -5.8729537e-03,\n",
       "        6.4907447e-03,  2.4783406e-02,  4.0559355e-02,  2.9809747e-02,\n",
       "        4.7572479e-03,  1.4624227e-02,  3.6044605e-03,  4.8111986e-02,\n",
       "       -3.0449200e-02,  3.5360191e-02], dtype=float32)"
      ]
     },
     "execution_count": 28,
     "metadata": {},
     "output_type": "execute_result"
    }
   ],
   "source": [
    "#Word embedding for legacy:\n",
    "\n",
    "model.predict(pad_sent)[0][-1]"
   ]
  },
  {
   "cell_type": "code",
   "execution_count": 29,
   "metadata": {},
   "outputs": [
    {
     "data": {
      "text/plain": [
       "array([ 0.03197933,  0.00617479,  0.01134831,  0.01664588,  0.04026793,\n",
       "        0.0468074 , -0.04918547, -0.02131295, -0.04805043,  0.04024074,\n",
       "        0.04140475, -0.01917273,  0.03136387, -0.00160036,  0.03116623,\n",
       "       -0.01072866, -0.00057683, -0.04159043, -0.03906962,  0.01633375,\n",
       "       -0.04855192, -0.02713817, -0.03227453,  0.01677359,  0.01343079,\n",
       "        0.02372496, -0.02880554,  0.00980498,  0.01453947,  0.04585406,\n",
       "       -0.03103371, -0.02340667, -0.00404655, -0.01873124,  0.00546547,\n",
       "        0.03536229,  0.04703805,  0.00828092, -0.03963355,  0.01348083,\n",
       "        0.0440304 ,  0.04419577,  0.00697362,  0.00218406,  0.01864007,\n",
       "        0.00480332, -0.00638233,  0.01960769,  0.00129684, -0.0199906 ],\n",
       "      dtype=float32)"
      ]
     },
     "execution_count": 29,
     "metadata": {},
     "output_type": "execute_result"
    }
   ],
   "source": [
    "#Word embedding for Week:\n",
    "\n",
    "model.predict(pad_sent)[2][-1]"
   ]
  },
  {
   "cell_type": "markdown",
   "metadata": {},
   "source": [
    "These embeddings can be used as features to further train models."
   ]
  },
  {
   "cell_type": "code",
   "execution_count": null,
   "metadata": {},
   "outputs": [],
   "source": []
  }
 ],
 "metadata": {
  "kernelspec": {
   "display_name": "Python 3",
   "language": "python",
   "name": "python3"
  },
  "language_info": {
   "codemirror_mode": {
    "name": "ipython",
    "version": 3
   },
   "file_extension": ".py",
   "mimetype": "text/x-python",
   "name": "python",
   "nbconvert_exporter": "python",
   "pygments_lexer": "ipython3",
   "version": "3.7.7"
  }
 },
 "nbformat": 4,
 "nbformat_minor": 4
}
